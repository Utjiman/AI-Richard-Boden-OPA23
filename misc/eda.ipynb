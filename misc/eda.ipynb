{
 "cells": [
  {
   "cell_type": "markdown",
   "metadata": {},
   "source": [
    "### Steg 1: Ladda och Utforska Datasetet"
   ]
  },
  {
   "cell_type": "code",
   "execution_count": null,
   "metadata": {},
   "outputs": [],
   "source": [
    "import pandas as pd\n",
    "\n",
    "# Ladda datasetet\n",
    "df = pd.read_csv('data.csv')\n",
    "\n",
    "# Visa de första raderna för att få en känsla för datan\n",
    "print(df.head())\n",
    "\n",
    "# Visa datatyper och saknade värden\n",
    "print(df.info())\n"
   ]
  },
  {
   "cell_type": "markdown",
   "metadata": {},
   "source": [
    "### Steg 2: Rengör Datan\n"
   ]
  },
  {
   "cell_type": "code",
   "execution_count": null,
   "metadata": {},
   "outputs": [],
   "source": [
    "# Hantera saknade värden. Exempel: Ta bort eller fyll i med medelvärdet\n",
    "# Ta bort rader med saknade värden\n",
    "df_clean = df.dropna()\n",
    "\n",
    "# Alternativ: Fyll i saknade värden med medelvärdet för varje kolumn\n",
    "# df.fillna(df.mean(), inplace=True)\n",
    "\n",
    "# Kontrollera efter rengöringen\n",
    "print(df_clean.info())\n"
   ]
  },
  {
   "cell_type": "markdown",
   "metadata": {},
   "source": [
    "### Steg 3: Analysera Datan"
   ]
  },
  {
   "cell_type": "markdown",
   "metadata": {},
   "source": [
    "Deskriptiv Statistik"
   ]
  },
  {
   "cell_type": "code",
   "execution_count": null,
   "metadata": {},
   "outputs": [],
   "source": [
    "# Grundläggande statistik\n",
    "print(df_clean.describe())\n"
   ]
  },
  {
   "cell_type": "markdown",
   "metadata": {},
   "source": [
    "Fördelning av Data"
   ]
  },
  {
   "cell_type": "code",
   "execution_count": null,
   "metadata": {},
   "outputs": [],
   "source": [
    "import matplotlib.pyplot as plt\n",
    "import seaborn as sns\n",
    "\n",
    "# Histogram för numeriska variabler\n",
    "df_clean.hist(figsize=(10, 8))\n",
    "plt.show()\n",
    "\n",
    "# Boxplot för att identifiera outliers\n",
    "sns.boxplot(data=df_clean, x='variabelnamn')\n",
    "plt.show()\n"
   ]
  },
  {
   "cell_type": "markdown",
   "metadata": {},
   "source": [
    "Korrelationer\n"
   ]
  },
  {
   "cell_type": "code",
   "execution_count": null,
   "metadata": {},
   "outputs": [],
   "source": [
    "# Korrelationsmatris\n",
    "corr = df_clean.corr()\n",
    "print(corr)\n",
    "\n",
    "# Visualisera korrelationer med heatmap\n",
    "sns.heatmap(corr, annot=True, cmap='coolwarm')\n",
    "plt.show()\n"
   ]
  },
  {
   "cell_type": "markdown",
   "metadata": {},
   "source": [
    "### Steg 4: Visualisering"
   ]
  },
  {
   "cell_type": "code",
   "execution_count": null,
   "metadata": {},
   "outputs": [],
   "source": [
    "# Scatter plot för att utforska relationer mellan två variabler\n",
    "sns.scatterplot(data=df_clean, x='variabel1', y='variabel2')\n",
    "plt.show()\n",
    "\n",
    "# Parplot för att visualisera relationer mellan flera par av variabler\n",
    "sns.pairplot(df_clean)\n",
    "plt.show()\n"
   ]
  }
 ],
 "metadata": {
  "kernelspec": {
   "display_name": "venv",
   "language": "python",
   "name": "python3"
  },
  "language_info": {
   "codemirror_mode": {
    "name": "ipython",
    "version": 3
   },
   "file_extension": ".py",
   "mimetype": "text/x-python",
   "name": "python",
   "nbconvert_exporter": "python",
   "pygments_lexer": "ipython3",
   "version": "3.11.7"
  }
 },
 "nbformat": 4,
 "nbformat_minor": 2
}
