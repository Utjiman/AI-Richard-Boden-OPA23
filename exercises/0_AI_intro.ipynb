{
 "cells": [
  {
   "cell_type": "markdown",
   "metadata": {},
   "source": [
    "<div style=\"max-width:66ch;\">\n",
    "\n",
    "# Exercise - AI intro\n",
    "\n",
    "---\n",
    "These are introductory exercises in AI theory with focus in **terminology** and **concepts**. The purpose of this exercise is to get an overview of field of machine learning and AI. We will introduce these concepts throughout the course.\n",
    "\n",
    "<p class = \"alert alert-info\" role=\"alert\"><b>Note</b> that in cases when you start to repeat code, try not to. Create functions to reuse code instead. </p>\n",
    "\n",
    "<p class = \"alert alert-info\" role=\"alert\"><b>Remember</b> to use <b>descriptive variable, function, index </b> and <b> column names</b> in order to get readable code </p>\n",
    "\n",
    "<p class = \"alert alert-info\" role=\"alert\"><b>Remember</b> to format your input questions in a pedagogical way to guide the user\n",
    "\n",
    "The number of stars (\\*), (\\*\\*), (\\*\\*\\*) denotes the difficulty level of the task\n",
    "\n",
    "---\n",
    "\n",
    "</div>"
   ]
  },
  {
   "cell_type": "markdown",
   "metadata": {},
   "source": [
    "<div style=\"max-width:66ch;\">\n",
    "\n",
    "## 0. Glossary (\\*)\n",
    "\n",
    "You can use an LLM for help and/or search for results online, but try to summarize the meaning in your own words, in order to properly learn the terminologies. I don't expect you to know all of them now, but after this course you should know these and many more by heart.\n",
    "\n",
    "| Terminology                | Meaning |\n",
    "| :------------------------- | ------: |\n",
    "| supervised learning        |         |\n",
    "| unsupervised learning      |         |\n",
    "| machine learning           |         |\n",
    "| deep learning              |         |\n",
    "| pattern recognition        |         |\n",
    "| reinforcement learning     |         |\n",
    "| data science               |         |\n",
    "| data engineering           |         |\n",
    "| computer vision            |         |\n",
    "| algorithm                  |         |\n",
    "| bias                       |         |\n",
    "| variance                   |         |\n",
    "| overfitting                |         |\n",
    "| underfitting               |         |\n",
    "| gradient descent           |         |\n",
    "| transfer learning          |         |\n",
    "| regression                 |         |\n",
    "| classification             |         |\n",
    "| artificial neural networks |         |\n",
    "| data augmentation          |         |\n",
    "| synthetic data             |         |\n",
    "| regularization             |         |\n",
    "| perceptron                 |         |\n",
    "| qualitative data           |         |\n",
    "| quantitative data          |         |\n",
    "| independent variable       |         |\n",
    "| dependent variable         |         |\n",
    "| label                      |         |\n",
    "\n",
    "</div>\n"
   ]
  },
  {
   "cell_type": "markdown",
   "metadata": {},
   "source": [
    "<div style=\"max-width:66ch;\">\n",
    "\n",
    "---\n",
    "\n",
    "## 1. Machine learning, deep learning and AI\n",
    "\n",
    "Draw an illustration of how machine learning, deep learning and artificial intelligence relate to each other and explain it with your own words.\n",
    "\n",
    "</div>\n"
   ]
  },
  {
   "cell_type": "markdown",
   "metadata": {},
   "source": [
    "## 1.\n",
    "- Machine learning, deep learning och AI (artificiell intelligens) är alla delar av ett \n",
    "teknologiskt och vetenskapligt område som handlar om att ge datorer förmågan att utföra uppgifter som traditionellt kräver mänsklig intelligens.\n",
    "        \n",
    "        \n",
    "    - AI är det övergripande målet - att skapa maskiner som kan agera intelligent. Machine learning är en metod för att uppnå AI, där datorer får förmågan att lära sig och anpassa sig. Deep learning är en specifik, mer avancerad typ av machine learning som använder stora neuronnät för att hantera särskilt komplexa uppgifter. Tänk på det som en rysk matryoshkadocka: deep learning är inuti machine learning, som i sin tur är inuti AI.\n",
    "    \n"
   ]
  },
  {
   "cell_type": "markdown",
   "metadata": {},
   "source": [
    "<div style=\"max-width:66ch;\">\n",
    "\n",
    "---\n",
    "\n",
    "## 2. Regression and classification\n",
    "\n",
    "What is the main difference between regression and classification? \n",
    "\n",
    "&nbsp; a) Give an example of a problem that can be solved with regression\n",
    "\n",
    "&nbsp; b) Give an example of a problem that can be solved with classification\n",
    "\n",
    "</div>\n"
   ]
  },
  {
   "cell_type": "markdown",
   "metadata": {},
   "source": [
    "## 2.\n",
    "\n",
    "- Den största skillnaden mellan regression och classification ligger i typen av output dom genererar av given input data.\n",
    "\n",
    "a.) Används när utdatavariabeln är ett reellt eller kontinuerligt värde, såsom \"lön\" eller \"vikt\". Regressionstekniker förutsäger värdet på utdatan baserat på indatavariabler.\n",
    "\n",
    "    - Att förutsäga patienters återhämtningshastighet baserat på behandlingsmetoder och patientens tidigare medicinska historia. \n",
    "    - Att förutsäga temperaturen för nästa vecka baserat på historiska väderdata.\n",
    "\n",
    "b.) Används när utdatavariabeln är en kategori, såsom \"röd\" eller \"blå\", eller \"sjukdom\" och \"ingen sjukdom\". Klassificeringstekniker tilldelar varje indata till en av de fördefinierade kategorierna.\n",
    "\n",
    "    - Att klassificera bilder som antingen innehåller ett ansikte eller inte.\n",
    "    - Att klassificera låneansökningar som antingen lågrisk eller högrisk baserat på kundens kreditvärdighet och andra faktorer.\n"
   ]
  },
  {
   "cell_type": "markdown",
   "metadata": {},
   "source": [
    "<div style=\"max-width:66ch;\">\n",
    "\n",
    "---\n",
    "\n",
    "## 3. Scaling data (\\*)\n",
    "\n",
    "What does scaling data mean, and why do some machine learning algorithm require data to be scaled? \n",
    "\n",
    "</div>\n"
   ]
  },
  {
   "cell_type": "markdown",
   "metadata": {},
   "source": [
    "## 3.\n",
    "\n",
    "- Att skala data innebär att ändra intervallet av värden för att de ska passa inom en specifik range, vanligtvis mellan 0 och 1 eller -1 och 1. Detta görs genom att använda olika skalningstekniker, såsom min-max skalning eller standardisering.\n",
    "- Prestanda: Skalning av data kan förbättra prestandan hos vissa algoritmer. Till exempel, algoritmer som använder avståndsbaserade beräkningar, som k-nearest neighbors (kNN) eller support vector machines (SVM), kan vara känsliga för skillnader i skala mellan olika attribut. Skalning av data säkerställer att alla attribut har samma inverkan på resultatet.\n",
    "- Konvergens: Många optimeringsalgoritmer, såsom stokastisk gradientavstigning, konvergerar snabbare på data som är skalad jämfört med oskalad data. Detta kan bidra till att minska beräkningstiden och förbättra prestandan på träningsdata.\n"
   ]
  },
  {
   "cell_type": "markdown",
   "metadata": {},
   "source": [
    "<div style=\"max-width:66ch;\">\n",
    "\n",
    "---\n",
    "\n",
    "## 4. Train|test split (\\*)\n",
    "\n",
    "What is the purpose to split the data into a training part and a test part? \n",
    "\n",
    "\n",
    "</div>\n"
   ]
  },
  {
   "cell_type": "markdown",
   "metadata": {},
   "source": [
    "## 4\n",
    "\n",
    "- Träningsdata: Det är som läroböckerna och övningsproblemen du använder för att lära dig något nytt, som att lösa matteproblem. Modellen använder träningsdata för att lära sig mönster och regler.\n",
    "\n",
    "- Testdata: Det är som provet du tar efter att ha studerat från dina läroböcker och övningsproblem. Testdata används för att se om modellen kan lösa problem korrekt på nytt material, det vill säga om den kan använda vad den har lärt sig på riktigt.\n",
    "\n",
    "Genom att ha både träningsdata och testdata kan vi se hur bra modellen kan lösa problem på nya data och undvika att den bara \"memorerar\" svaren på övningsproblemen utan att förstå själva ämnet."
   ]
  },
  {
   "cell_type": "markdown",
   "metadata": {},
   "source": [
    "<div style=\"max-width:66ch;\">\n",
    "\n",
    "---\n",
    "\n",
    "## 5. Data leakage (\\*)\n",
    "\n",
    "What is data leakage, why is it bad and how can you avoid it?\n",
    "\n",
    "</div>\n"
   ]
  },
  {
   "cell_type": "markdown",
   "metadata": {},
   "source": [
    "## 5\n",
    "\n",
    "- Datalekage inom AI inträffar när information från test- eller valideringsdata oavsiktligt blandas in i träningsprocessen. Detta kan överdriva modellens prestandaresultat och leda till felaktiga slutsatser. \n",
    "\n",
    "- För att unvika data leakage:\n",
    "    - Se till att varje uppsättning data är tydligt definierad och inte blandas ihop. Använd träningsdata för att utbilda modellen, valideringsdata för att justera parametrar och utvärdera prestanda, och testdata för att slutligen bedöma modellens prestanda.\n",
    "    - Se till att träningsdata endast innehåller information som skulle vara tillgänglig vid tidpunkten för förutsägelsen. Undvik att inkludera data som genererats efter händelsen du försöker förutsäga.\n",
    "    - Se till att träningsdata endast innehåller information som skulle vara tillgänglig vid tidpunkten för förutsägelsen. Undvik att inkludera data som genererats efter händelsen du försöker förutsäga."
   ]
  },
  {
   "cell_type": "markdown",
   "metadata": {},
   "source": [
    "<div style=\"max-width:66ch;\">\n",
    "\n",
    "---\n",
    "## 6. Cross-validation (\\*)\n",
    "\n",
    "How does cross-validation work, and when is it good to use cross-validation?\n",
    "\n",
    "\n",
    "</div>\n"
   ]
  },
  {
   "cell_type": "markdown",
   "metadata": {},
   "source": [
    "## 6\n",
    "\n",
    "- Korsvalidering (cross-validation) är en teknik som används för att utvärdera prestandan hos en maskininlärningsmodell genom att dela upp träningsdata i flera mindre delmängder. Modellen tränas sedan på en delmängd och utvärderas på de återstående delmängderna, och processen upprepas flera gånger med olika kombinationer av tränings- och testdata.\n",
    "\n",
    "- När datamängden är begränsad kan korsvalidering hjälpa till att utnyttja den till fullo genom att använda varje datapunkt både för träning och testning, vilket minimerar risken för överanpassning.\n",
    "\n",
    "- Korsvalidering ger en mer pålitlig uppskattning av modellens prestanda eftersom den utvärderas på flera olika delmängder av data. Det ger ett mer generellt mått på modellens prestanda jämfört med en enda delning av data i tränings- och testset.\n",
    "\n",
    "\n"
   ]
  },
  {
   "cell_type": "markdown",
   "metadata": {},
   "source": [
    "<div style=\"max-width:66ch;\">\n",
    "\n",
    "---\n",
    "\n",
    "## 6. Confusion matrix (\\*)\n",
    "\n",
    "When can you and should you use a confusion matrix? \n",
    "\n",
    "---\n",
    "\n",
    "</div>\n"
   ]
  },
  {
   "cell_type": "markdown",
   "metadata": {},
   "source": [
    "6 (7?)\n",
    "\n",
    "- Förvirringsmatrisen är användbar i klassificeringsproblem för att utvärdera modellprestanda, särskilt när det finns flera klasser eller obalanserade dataset. Den ger detaljerad insikt i modellens förmåga att göra korrekta klassificeringar och hjälper till att justera modellparametrar för förbättrad prestanda.\n",
    "\n",
    "- Sammanfattningsvis är förvirringsmatrisen ett kraftfullt verktyg för att utvärdera och förstå modellprestanda i klassificeringsproblem och bör användas regelbundet för att analysera modellens beteende och identifiera eventuella förbättringsområden."
   ]
  },
  {
   "cell_type": "markdown",
   "metadata": {},
   "source": [
    "<div style=\"width: 66ch;\">\n",
    "\n",
    "\n",
    "</div>"
   ]
  },
  {
   "cell_type": "markdown",
   "metadata": {},
   "source": [
    "<div style=\"background-color: #FFF; color: #212121; border-radius: 20px; width:25ch; box-shadow: rgba(0, 0, 0, 0.16) 0px 1px 4px; display: flex; justify-content: center; align-items: center;\">\n",
    "<div style=\"padding: 1em; width: 60%;\">\n",
    "    <h2 style=\"font-size: 1.2rem;\">Kokchun Giang</h2>\n",
    "    <a href=\"https://www.linkedin.com/in/kokchungiang/\" target=\"_blank\" style=\"display: flex; align-items: center; gap: .4em; color:#0A66C2;\">\n",
    "        <img src=\"https://content.linkedin.com/content/dam/me/business/en-us/amp/brand-site/v2/bg/LI-Bug.svg.original.svg\" width=\"20\"> \n",
    "        LinkedIn profile\n",
    "    </a>\n",
    "    <a href=\"https://github.com/kokchun/Portfolio-Kokchun-Giang\" target=\"_blank\" style=\"display: flex; align-items: center; gap: .4em; margin: 1em 0; color:#0A66C2;\">\n",
    "        <img src=\"https://github.githubassets.com/images/modules/logos_page/GitHub-Mark.png\" width=\"20\"> \n",
    "        Github portfolio\n",
    "    </a>\n",
    "    <span>AIgineer AB</span>\n",
    "    <div>\n",
    "</div>"
   ]
  }
 ],
 "metadata": {
  "kernelspec": {
   "display_name": "Python 3.9.6 64-bit",
   "language": "python",
   "name": "python3"
  },
  "language_info": {
   "codemirror_mode": {
    "name": "ipython",
    "version": 3
   },
   "file_extension": ".py",
   "mimetype": "text/x-python",
   "name": "python",
   "nbconvert_exporter": "python",
   "pygments_lexer": "ipython3",
   "version": "3.11.7"
  },
  "orig_nbformat": 4,
  "vscode": {
   "interpreter": {
    "hash": "0da836a34428266995a795f1e1e27b816fa1c02f148d9728b3fbbbc5459afca6"
   }
  }
 },
 "nbformat": 4,
 "nbformat_minor": 2
}
